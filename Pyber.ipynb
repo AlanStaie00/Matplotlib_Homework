{
 "cells": [
  {
   "cell_type": "code",
   "execution_count": null,
   "metadata": {},
   "outputs": [],
   "source": [
    "%matplotlib inline\n",
    "# Dependencies and Setup\n",
    "import matplotlib.pyplot as plt\n",
    "import pandas as pd\n",
    "import numpy as np"
   ]
  },
  {
   "cell_type": "code",
   "execution_count": null,
   "metadata": {},
   "outputs": [],
   "source": [
    "# File to Load\n",
    "# Read the City and Ride Data\n",
    "city_df = pd.read_csv('city_data.csv')\n",
    "ride_df = pd.read_csv('ride_data.csv')"
   ]
  },
  {
   "cell_type": "code",
   "execution_count": null,
   "metadata": {},
   "outputs": [],
   "source": [
    "# Combine the data into a single dataset\n",
    "city_df = pd.DataFrame(city_df)\n",
    "city_df.head(10)"
   ]
  },
  {
   "cell_type": "code",
   "execution_count": null,
   "metadata": {},
   "outputs": [],
   "source": [
    "# Combine the data into a single dataset\n",
    "ride_df = pd.DataFrame(ride_df)\n",
    "ride_df.head(10)"
   ]
  },
  {
   "cell_type": "code",
   "execution_count": null,
   "metadata": {},
   "outputs": [],
   "source": [
    "# Combine the data into a single dataset\n",
    "# Display the data table for preview\n",
    "merge_df = pd.merge(city_df, ride_df, on='city', how='outer')\n",
    "merge_df = merge_df.groupby(['city', \"type\"])\n",
    "merge_df = pd.DataFrame(round(merge_df.mean(),3))\n",
    "merge_df = merge_df.reset_index()\n",
    "merge_df.head()"
   ]
  },
  {
   "cell_type": "code",
   "execution_count": null,
   "metadata": {},
   "outputs": [],
   "source": [
    "city_count = ride_df.copy()\n",
    "city_count = city_count.groupby('city')['ride_id'].count()\n",
    "city_count = pd.DataFrame(city_count)\n",
    "city_count = city_count.reset_index()\n",
    "city_count = city_count.rename(columns={'ride_id':'Total number of rides'})\n",
    "city_count.head()"
   ]
  },
  {
   "cell_type": "code",
   "execution_count": null,
   "metadata": {},
   "outputs": [],
   "source": [
    "merge_df = pd.merge(merge_df,city_count, on='city')\n",
    "merge_df = merge_df.loc[:,['city', 'type', 'Total number of rides', 'driver_count', 'fare',]]\n",
    "merge_df = pd.DataFrame(merge_df)\n",
    "merge_df.rename(columns={'city':'City',\n",
    "                   'type':'Types',\n",
    "                   'fare':'Average fare',\n",
    "                   'driver_count':'Total drivers'\n",
    "                  })\n",
    "merge_df.head()"
   ]
  },
  {
   "cell_type": "code",
   "execution_count": null,
   "metadata": {},
   "outputs": [],
   "source": [
    "# Obtain the x and y coordinates for each of the three city types\n",
    "# Build the scatter plots for each city types\n",
    "urb = merge_df.type.str.count(r'Urban')\n",
    "sub = merge_df.type.str.count(r'Suburban')\n",
    "rur = merge_df.type.str.count(r'Rural')\n",
    "x = (merge_df['Total number of rides'] * urb) \n",
    "y = (merge_df['fare'] * urb)\n",
    "plt.scatter(x, y, alpha=0.7, c='g', edgecolors='y', s = merge_df['driver_count']*10, label=\"Urban\", linewidths=2)\n",
    "x = (merge_df['Total number of rides'] * sub)\n",
    "y = (merge_df['fare'] * sub)\n",
    "plt.scatter(x, y, alpha=0.7, c='b', edgecolors='darkblue', s = merge_df['driver_count']*10, label='Suburban', linewidths=2)\n",
    "x = (merge_df['Total number of rides'] * rur)\n",
    "y = (merge_df['fare'] * rur)\n",
    "plt.scatter(x, y, alpha=0.7, c='pink', edgecolors='r', s = merge_df['driver_count']*8, label='Rural', linewidths=1)\n",
    "plt.ylim(15, 50)\n",
    "plt.xlim(0, 45)\n",
    "plt.ylabel('Average Fare ($)', fontsize = 12)\n",
    "plt.xlabel('Total Number of rides (Per city)', fontsize = 12)\n",
    "plt.title(\"Pyber ride sharing data (2016)\", fontsize = 15)\n",
    "plt.grid()\n",
    "\n",
    "# Create a legend\n",
    "plt.legend(handles=None, loc=\"best\", scatterpoints=1, fontsize=10, markerscale=0.5)\n",
    "\n",
    "# Show Figure\n",
    "plt.show()"
   ]
  },
  {
   "cell_type": "code",
   "execution_count": null,
   "metadata": {},
   "outputs": [],
   "source": [
    "# created dataframe for first pie chart\n",
    "pie_1df = pd.merge(city_df, ride_df, on='city')\n",
    "pie_1df = pie_1df.groupby('type')['fare'].sum()\n",
    "pie_1df = pd.DataFrame(pie_1df)\n",
    "pie_1df['% of total fare'] = pie_1df['fare']/pie_1df['fare'].sum()*100\n",
    "pie_1df = pie_1df.reset_index()\n",
    "pie_1df"
   ]
  },
  {
   "cell_type": "code",
   "execution_count": null,
   "metadata": {},
   "outputs": [],
   "source": [
    "# Pie chart\n",
    "types = pie_1df['type']\n",
    "total_fare = pie_1df['% of total fare']\n",
    "colors = [\"gold\", \"lightcoral\", \"skyblue\"]\n",
    "explode = (0, 0, 0.05)\n",
    "plt.title('% of Total Fares by City Type', fontsize=20)\n",
    "plt.pie(total_fare, explode=explode, labels=types, colors=colors, autopct=\"%1.1f%%\", shadow=True, startangle=50)"
   ]
  },
  {
   "cell_type": "code",
   "execution_count": null,
   "metadata": {},
   "outputs": [],
   "source": [
    "# created dataframe for second pie chart\n",
    "pie_2df = merge_df.groupby('type')['Total number of rides'].sum()\n",
    "pie_2df = pd.DataFrame(pie_2df)\n",
    "pie_2df = pie_2df.reset_index()\n",
    "pie_2df['% of total rides'] = pie_2df['Total number of rides']/pie_2df['Total number of rides'].sum()* 100\n",
    "pie_2df"
   ]
  },
  {
   "cell_type": "code",
   "execution_count": null,
   "metadata": {},
   "outputs": [],
   "source": [
    "# Pie Chart\n",
    "types = pie_2df['type']\n",
    "ride_count = pie_2df['% of total rides']\n",
    "colors = [\"gold\", \"lightcoral\", \"skyblue\"]\n",
    "plt.title('% of Total Rides by City Type', fontsize=20)\n",
    "explode = (0, 0, 0.05)\n",
    "plt.pie(ride_count, explode=explode, labels=types, colors=colors, autopct=\"%1.1f%%\", shadow=True, startangle=50)"
   ]
  },
  {
   "cell_type": "code",
   "execution_count": null,
   "metadata": {},
   "outputs": [],
   "source": [
    "# created dataframe for third pie chart\n",
    "pie_3df = merge_df.groupby('type')['driver_count'].sum()\n",
    "pie_3df = pd.DataFrame(pie_3df)\n",
    "pie_3df = pie_3df.reset_index()\n",
    "pie_3df['% of total rides'] = pie_3df['driver_count']/pie_3df['driver_count'].sum()* 100\n",
    "pie_3df"
   ]
  },
  {
   "cell_type": "code",
   "execution_count": null,
   "metadata": {},
   "outputs": [],
   "source": [
    "# Pie Chart\n",
    "types = pie_3df['type']\n",
    "ride_count = pie_3df['% of total rides']\n",
    "colors = [\"gold\", \"lightcoral\", \"skyblue\"]\n",
    "plt.title('% of Total Rides by City Type', fontsize=20)\n",
    "explode = (0, 0, 0.05)\n",
    "plt.pie(ride_count, explode=explode, labels=types, colors=colors, autopct=\"%1.1f%%\", shadow=True, startangle=50)"
   ]
  }
 ],
 "metadata": {
  "kernelspec": {
   "display_name": "Python 3",
   "language": "python",
   "name": "python3"
  },
  "language_info": {
   "codemirror_mode": {
    "name": "ipython",
    "version": 3
   },
   "file_extension": ".py",
   "mimetype": "text/x-python",
   "name": "python",
   "nbconvert_exporter": "python",
   "pygments_lexer": "ipython3",
   "version": "3.7.3"
  }
 },
 "nbformat": 4,
 "nbformat_minor": 2
}
